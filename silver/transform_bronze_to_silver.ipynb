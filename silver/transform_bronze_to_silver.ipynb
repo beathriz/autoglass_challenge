{
 "cells": [
  {
   "cell_type": "markdown",
   "id": "65995fbc",
   "metadata": {},
   "source": [
    "## Imports"
   ]
  },
  {
   "cell_type": "code",
   "execution_count": 87,
   "id": "0c54002a",
   "metadata": {},
   "outputs": [],
   "source": [
    "# Bibliotecas padrão\n",
    "import io\n",
    "import unidecode\n",
    "\n",
    "# Bibliotecas de terceiros\n",
    "import pandas as pd\n",
    "import boto3\n",
    "from sklearn.feature_extraction.text import TfidfVectorizer\n",
    "from sklearn.metrics.pairwise import cosine_similarity\n",
    "\n",
    "# PySpark\n",
    "from pyspark.sql import SparkSession\n",
    "from pyspark.sql.types import StructType, StructField, StringType, ArrayType\n",
    "from pyspark.sql.functions import col, sum as _sum, lower, udf, first, avg, when"
   ]
  },
  {
   "cell_type": "markdown",
   "id": "a597b5eb",
   "metadata": {},
   "source": [
    "## Leitura dos dados da Bronze (S3)"
   ]
  },
  {
   "cell_type": "code",
   "execution_count": null,
   "id": "5ac9e957",
   "metadata": {},
   "outputs": [],
   "source": [
    "s3 = boto3.client(\"s3\")\n",
    "bucket = \"bronze-autoglass\"\n",
    "\n",
    "def read_parquet_from_s3(key):\n",
    "    buffer = io.BytesIO()\n",
    "    s3.download_fileobj(bucket, key, buffer)\n",
    "    buffer.seek(0)\n",
    "    return pd.read_parquet(buffer)\n",
    "\n",
    "orders = read_parquet_from_s3(\"olist_orders_dataset.parquet\")\n",
    "items = read_parquet_from_s3(\"olist_order_items_dataset.parquet\")\n",
    "products = read_parquet_from_s3(\"olist_products_dataset.parquet\")\n",
    "sellers = read_parquet_from_s3(\"olist_sellers_dataset.parquet\")\n",
    "cnae = read_parquet_from_s3(\"cnae_classes.parquet\")"
   ]
  },
  {
   "cell_type": "code",
   "execution_count": null,
   "id": "62413d9c",
   "metadata": {},
   "outputs": [],
   "source": [
    "spark = SparkSession.builder.getOrCreate()\n",
    "\n",
    "#dataframes\n",
    "orders_sdf = spark.createDataFrame(orders)\n",
    "items_sdf = spark.createDataFrame(items)\n",
    "products_sdf = spark.createDataFrame(products)\n",
    "sellers_sdf = spark.createDataFrame(sellers)\n",
    "cnae_sdf = spark.createDataFrame(cnae)\n",
    "\n",
    "customers = read_parquet_from_s3(\"olist_customers_dataset.parquet\")\n",
    "customers_sdf = spark.createDataFrame(customers)"
   ]
  },
  {
   "cell_type": "markdown",
   "id": "61787fa6",
   "metadata": {},
   "source": [
    "## Transformações"
   ]
  },
  {
   "cell_type": "markdown",
   "id": "ad06aa72",
   "metadata": {},
   "source": [
    "### a. Consolidar vendas por estado e categoria de produto"
   ]
  },
  {
   "cell_type": "code",
   "execution_count": null,
   "id": "1958771f",
   "metadata": {},
   "outputs": [],
   "source": [
    "vendas_estado_categoria = (\n",
    "    items_sdf\n",
    "    .join(orders_sdf, \"order_id\")\n",
    "    .join(customers_sdf, \"customer_id\")\n",
    "    .join(products_sdf, \"product_id\")\n",
    "    .groupBy(\"customer_state\", \"product_category_name\")\n",
    "    .agg(_sum(\"price\").alias(\"total_vendas\"))\n",
    ")"
   ]
  },
  {
   "cell_type": "code",
   "execution_count": 83,
   "id": "1274a627",
   "metadata": {},
   "outputs": [
    {
     "name": "stderr",
     "output_type": "stream",
     "text": [
      "25/05/23 11:29:39 WARN TaskSetManager: Stage 127 contains a task of very large size (4147 KiB). The maximum recommended task size is 1000 KiB.\n",
      "25/05/23 11:29:44 WARN TaskSetManager: Stage 128 contains a task of very large size (2073 KiB). The maximum recommended task size is 1000 KiB.\n",
      "25/05/23 11:29:49 WARN TaskSetManager: Stage 130 contains a task of very large size (3305 KiB). The maximum recommended task size is 1000 KiB.\n",
      "                                                                                \r"
     ]
    }
   ],
   "source": [
    "vendas_estado_categoria.coalesce(1).write.mode(\"overwrite\").parquet(\"/tmp/vendas_estado_categoria_temp\")\n"
   ]
  },
  {
   "cell_type": "markdown",
   "id": "4fc0a894",
   "metadata": {},
   "source": [
    "### b. Enriquecer os dados dos vendedores com descrições do CNAE"
   ]
  },
  {
   "cell_type": "markdown",
   "id": "56ad0018",
   "metadata": {},
   "source": [
    "#### Para enriquecer os dados dos vendedores com descrições do CNAE, buqueicolunas que se relacionam nas tabelas para fazer o Join. A possibilidade que encontrei está na coluna descricao da tabela cnae_sdf com a coluna product_category_name da tabela products_sdf. "
   ]
  },
  {
   "cell_type": "code",
   "execution_count": null,
   "id": "af3a1d6f",
   "metadata": {},
   "outputs": [
    {
     "name": "stdout",
     "output_type": "stream",
     "text": [
      "root\n",
      " |-- id: string (nullable = true)\n",
      " |-- descricao: string (nullable = true)\n",
      " |-- descricao_normalizada: string (nullable = true)\n",
      "\n"
     ]
    }
   ],
   "source": [
    "cnae_sdf.printSchema() "
   ]
  },
  {
   "cell_type": "code",
   "execution_count": 89,
   "id": "6ab67e72",
   "metadata": {},
   "outputs": [
    {
     "name": "stdout",
     "output_type": "stream",
     "text": [
      "root\n",
      " |-- seller_id: string (nullable = true)\n",
      " |-- seller_zip_code_prefix: long (nullable = true)\n",
      " |-- seller_city: string (nullable = true)\n",
      " |-- seller_state: string (nullable = true)\n",
      "\n"
     ]
    }
   ],
   "source": [
    "sellers_sdf.printSchema() "
   ]
  },
  {
   "cell_type": "code",
   "execution_count": null,
   "id": "0138eb08",
   "metadata": {},
   "outputs": [
    {
     "name": "stdout",
     "output_type": "stream",
     "text": [
      "root\n",
      " |-- product_id: string (nullable = true)\n",
      " |-- product_category_name: string (nullable = true)\n",
      " |-- product_name_lenght: double (nullable = true)\n",
      " |-- product_description_lenght: double (nullable = true)\n",
      " |-- product_photos_qty: double (nullable = true)\n",
      " |-- product_weight_g: double (nullable = true)\n",
      " |-- product_length_cm: double (nullable = true)\n",
      " |-- product_height_cm: double (nullable = true)\n",
      " |-- product_width_cm: double (nullable = true)\n",
      " |-- categoria_normalizada: string (nullable = true)\n",
      "\n"
     ]
    }
   ],
   "source": [
    "products_sdf.printSchema() "
   ]
  },
  {
   "cell_type": "code",
   "execution_count": 91,
   "id": "08550da4",
   "metadata": {},
   "outputs": [
    {
     "name": "stdout",
     "output_type": "stream",
     "text": [
      "root\n",
      " |-- order_id: string (nullable = true)\n",
      " |-- customer_id: string (nullable = true)\n",
      " |-- order_status: string (nullable = true)\n",
      " |-- order_purchase_timestamp: string (nullable = true)\n",
      " |-- order_approved_at: string (nullable = true)\n",
      " |-- order_delivered_carrier_date: string (nullable = true)\n",
      " |-- order_delivered_customer_date: string (nullable = true)\n",
      " |-- order_estimated_delivery_date: string (nullable = true)\n",
      "\n"
     ]
    }
   ],
   "source": [
    "orders_sdf.printSchema() "
   ]
  },
  {
   "cell_type": "code",
   "execution_count": 92,
   "id": "19f0a57b",
   "metadata": {},
   "outputs": [
    {
     "name": "stdout",
     "output_type": "stream",
     "text": [
      "root\n",
      " |-- order_id: string (nullable = true)\n",
      " |-- order_item_id: long (nullable = true)\n",
      " |-- product_id: string (nullable = true)\n",
      " |-- seller_id: string (nullable = true)\n",
      " |-- shipping_limit_date: string (nullable = true)\n",
      " |-- price: double (nullable = true)\n",
      " |-- freight_value: double (nullable = true)\n",
      "\n"
     ]
    }
   ],
   "source": [
    "items_sdf.printSchema() "
   ]
  },
  {
   "cell_type": "code",
   "execution_count": null,
   "id": "884e0771",
   "metadata": {},
   "outputs": [
    {
     "name": "stderr",
     "output_type": "stream",
     "text": [
      "[Stage 27:===========================================>              (3 + 1) / 4]\r"
     ]
    },
    {
     "name": "stdout",
     "output_type": "stream",
     "text": [
      "+---------------------------------+\n",
      "|product_category_name            |\n",
      "+---------------------------------+\n",
      "|pcs                              |\n",
      "|bebes                            |\n",
      "|artes                            |\n",
      "|cine_foto                        |\n",
      "|moveis_decoracao                 |\n",
      "|pc_gamer                         |\n",
      "|construcao_ferramentas_construcao|\n",
      "|tablets_impressao_imagem         |\n",
      "|fashion_roupa_masculina          |\n",
      "|artigos_de_festas                |\n",
      "|artigos_de_natal                 |\n",
      "|la_cuisine                       |\n",
      "|flores                           |\n",
      "|livros_tecnicos                  |\n",
      "|telefonia_fixa                   |\n",
      "|construcao_ferramentas_seguranca |\n",
      "|cool_stuff                       |\n",
      "|eletrodomesticos                 |\n",
      "|livros_importados                |\n",
      "|pet_shop                         |\n",
      "+---------------------------------+\n",
      "only showing top 20 rows\n"
     ]
    },
    {
     "name": "stderr",
     "output_type": "stream",
     "text": [
      "                                                                                \r"
     ]
    }
   ],
   "source": [
    "products_sdf.select(\"product_category_name\").distinct().show(truncate=False)"
   ]
  },
  {
   "cell_type": "code",
   "execution_count": null,
   "id": "5ca98915",
   "metadata": {},
   "outputs": [
    {
     "name": "stderr",
     "output_type": "stream",
     "text": [
      "[Stage 18:>                                                         (0 + 4) / 4]\r"
     ]
    },
    {
     "name": "stdout",
     "output_type": "stream",
     "text": [
      "+-------------------------------------------------------------------------------------------------------------------------------+\n",
      "|descricao                                                                                                                      |\n",
      "+-------------------------------------------------------------------------------------------------------------------------------+\n",
      "|FABRICAÇÃO DE TINTAS DE IMPRESSÃO                                                                                              |\n",
      "|FABRICAÇÃO DE ESPECIARIAS, MOLHOS, TEMPEROS E CONDIMENTOS                                                                      |\n",
      "|FABRICAÇÃO DE ARTEFATOS TÊXTEIS PARA USO DOMÉSTICO                                                                             |\n",
      "|FABRICAÇÃO DE ARTEFATOS DE CORDOARIA                                                                                           |\n",
      "|FABRICAÇÃO DE ACESSÓRIOS DO VESTUÁRIO, EXCETO PARA SEGURANÇA E PROTEÇÃO                                                        |\n",
      "|FABRICAÇÃO DE IMPERMEABILIZANTES, SOLVENTES E PRODUTOS AFINS                                                                   |\n",
      "|FABRICAÇÃO DE ESTRUTURAS DE MADEIRA E DE ARTIGOS DE CARPINTARIA PARA CONSTRUÇÃO                                                |\n",
      "|FABRICAÇÃO DE PRODUTOS QUÍMICOS INORGÂNICOS NÃO ESPECIFICADOS ANTERIORMENTE                                                    |\n",
      "|MOAGEM E FABRICAÇÃO DE PRODUTOS DE ORIGEM VEGETAL NÃO ESPECIFICADOS ANTERIORMENTE                                              |\n",
      "|FIAÇÃO DE FIBRAS ARTIFICIAIS E SINTÉTICAS                                                                                      |\n",
      "|FABRICAÇÃO DE BISCOITOS E BOLACHAS                                                                                             |\n",
      "|CULTIVO DE FRUTAS DE LAVOURA PERMANENTE, EXCETO LARANJA E UVA                                                                  |\n",
      "|AQUICULTURA EM ÁGUA DOCE                                                                                                       |\n",
      "|FABRICAÇÃO DE ARTEFATOS DE TANOARIA E DE EMBALAGENS DE MADEIRA                                                                 |\n",
      "|FABRICAÇÃO DE PRODUTOS DE PASTAS CELULÓSICAS, PAPEL, CARTOLINA, PAPEL-CARTÃO E PAPELÃO ONDULADO NÃO ESPECIFICADOS ANTERIORMENTE|\n",
      "|FABRICAÇÃO DE PRODUTOS DO FUMO                                                                                                 |\n",
      "|EXTRAÇÃO DE MINÉRIO DE METAIS PRECIOSOS                                                                                        |\n",
      "|PREPARAÇÃO E FIAÇÃO DE FIBRAS TÊXTEIS NATURAIS, EXCETO ALGODÃO                                                                 |\n",
      "|FABRICAÇÃO DE ÓLEOS VEGETAIS EM BRUTO, EXCETO ÓLEO DE MILHO                                                                    |\n",
      "|FABRICAÇÃO DE ARTEFATOS DE MADEIRA, PALHA, CORTIÇA, VIME E MATERIAL TRANÇADO NÃO ESPECIFICADOS ANTERIORMENTE, EXCETO MÓVEIS    |\n",
      "+-------------------------------------------------------------------------------------------------------------------------------+\n",
      "only showing top 20 rows\n"
     ]
    },
    {
     "name": "stderr",
     "output_type": "stream",
     "text": [
      "                                                                                \r"
     ]
    }
   ],
   "source": [
    "cnae_sdf.select(\"descricao\").distinct().show(truncate=False)"
   ]
  },
  {
   "cell_type": "markdown",
   "id": "f4101575",
   "metadata": {},
   "source": [
    "#### Normalização de Texto para garantir que as comparações sejam feitas de forma consistente"
   ]
  },
  {
   "cell_type": "code",
   "execution_count": null,
   "id": "4b98ae96",
   "metadata": {},
   "outputs": [
    {
     "name": "stderr",
     "output_type": "stream",
     "text": [
      "                                                                                \r"
     ]
    },
    {
     "name": "stdout",
     "output_type": "stream",
     "text": [
      "                     categoria_produto  \\\n",
      "0                                  pcs   \n",
      "1                                bebes   \n",
      "2                                artes   \n",
      "3                            cine_foto   \n",
      "4                     moveis_decoracao   \n",
      "..                                 ...   \n",
      "69                             bebidas   \n",
      "70                     fashion_esporte   \n",
      "71  construcao_ferramentas_ferramentas   \n",
      "72                   cds_dvds_musicais   \n",
      "73                                       \n",
      "\n",
      "                                cnae_correspondencias  \n",
      "0   [(extracao de minerais metalicos nao ferrosos ...  \n",
      "1   [(extracao de minerais metalicos nao ferrosos ...  \n",
      "2   [(artes cenicas, espetaculos e atividades comp...  \n",
      "3   [(extracao de minerais metalicos nao ferrosos ...  \n",
      "4   [(extracao de minerais metalicos nao ferrosos ...  \n",
      "..                                                ...  \n",
      "69  [(comercio atacadista de bebidas, 0.7317682757...  \n",
      "70  [(extracao de minerais metalicos nao ferrosos ...  \n",
      "71  [(extracao de minerais metalicos nao ferrosos ...  \n",
      "72  [(extracao de minerais metalicos nao ferrosos ...  \n",
      "73  [(extracao de minerais metalicos nao ferrosos ...  \n",
      "\n",
      "[74 rows x 2 columns]\n"
     ]
    }
   ],
   "source": [
    "# Função para normalizar o texto\n",
    "def normalizar(texto):\n",
    "    if texto:\n",
    "        texto = unidecode.unidecode(texto.lower())\n",
    "        return texto\n",
    "    return ''\n",
    "\n",
    "# Aplicar normalização às colunas relevantes\n",
    "products_sdf = products_sdf.withColumn(\"categoria_normalizada\", lower(col(\"product_category_name\")))\n",
    "cnae_sdf = cnae_sdf.withColumn(\"descricao_normalizada\", lower(col(\"descricao\")))\n",
    "\n",
    "# Coletar os dados para o driver\n",
    "produtos = [normalizar(row['categoria_normalizada']) for row in products_sdf.select(\"categoria_normalizada\").distinct().collect()]\n",
    "descricoes_cnae = [normalizar(row['descricao_normalizada']) for row in cnae_sdf.select(\"descricao_normalizada\").distinct().collect()]\n",
    "\n",
    "# Combinar os textos para o vetor TF-IDF\n",
    "corpus = produtos + descricoes_cnae\n",
    "\n",
    "# Vetorização TF-IDF\n",
    "vectorizer = TfidfVectorizer()\n",
    "tfidf_matrix = vectorizer.fit_transform(corpus)\n",
    "\n",
    "# Calcular a similaridade cosseno entre produtos e descrições do CNAE\n",
    "similaridade = cosine_similarity(tfidf_matrix[:len(produtos)], tfidf_matrix[len(produtos):])\n",
    "\n",
    "# Criar um DataFrame com os resultados\n",
    "resultados = []\n",
    "for idx, categoria in enumerate(produtos):\n",
    "    similaridades = list(enumerate(similaridade[idx]))\n",
    "    similaridades_ordenadas = sorted(similaridades, key=lambda x: x[1], reverse=True)[:3]  # Top 3 correspondências\n",
    "    correspondencias = [(descricoes_cnae[i], score) for i, score in similaridades_ordenadas]\n",
    "    resultados.append({\n",
    "        'categoria_produto': categoria,\n",
    "        'cnae_correspondencias': correspondencias\n",
    "    })\n",
    "\n",
    "# Converter para DataFrame do Pandas para visualização\n",
    "df_resultados = pd.DataFrame(resultados)\n",
    "print(df_resultados)\n"
   ]
  },
  {
   "cell_type": "code",
   "execution_count": 58,
   "id": "81ebfafc",
   "metadata": {},
   "outputs": [
    {
     "data": {
      "text/html": [
       "<div>\n",
       "<style scoped>\n",
       "    .dataframe tbody tr th:only-of-type {\n",
       "        vertical-align: middle;\n",
       "    }\n",
       "\n",
       "    .dataframe tbody tr th {\n",
       "        vertical-align: top;\n",
       "    }\n",
       "\n",
       "    .dataframe thead th {\n",
       "        text-align: right;\n",
       "    }\n",
       "</style>\n",
       "<table border=\"1\" class=\"dataframe\">\n",
       "  <thead>\n",
       "    <tr style=\"text-align: right;\">\n",
       "      <th></th>\n",
       "      <th>categoria_produto</th>\n",
       "      <th>cnae_correspondencias</th>\n",
       "    </tr>\n",
       "  </thead>\n",
       "  <tbody>\n",
       "    <tr>\n",
       "      <th>0</th>\n",
       "      <td>pcs</td>\n",
       "      <td>[(extracao de minerais metalicos nao ferrosos ...</td>\n",
       "    </tr>\n",
       "    <tr>\n",
       "      <th>1</th>\n",
       "      <td>bebes</td>\n",
       "      <td>[(extracao de minerais metalicos nao ferrosos ...</td>\n",
       "    </tr>\n",
       "    <tr>\n",
       "      <th>2</th>\n",
       "      <td>artes</td>\n",
       "      <td>[(artes cenicas, espetaculos e atividades comp...</td>\n",
       "    </tr>\n",
       "    <tr>\n",
       "      <th>3</th>\n",
       "      <td>cine_foto</td>\n",
       "      <td>[(extracao de minerais metalicos nao ferrosos ...</td>\n",
       "    </tr>\n",
       "    <tr>\n",
       "      <th>4</th>\n",
       "      <td>moveis_decoracao</td>\n",
       "      <td>[(extracao de minerais metalicos nao ferrosos ...</td>\n",
       "    </tr>\n",
       "    <tr>\n",
       "      <th>...</th>\n",
       "      <td>...</td>\n",
       "      <td>...</td>\n",
       "    </tr>\n",
       "    <tr>\n",
       "      <th>69</th>\n",
       "      <td>bebidas</td>\n",
       "      <td>[(comercio atacadista de bebidas, 0.7317682757...</td>\n",
       "    </tr>\n",
       "    <tr>\n",
       "      <th>70</th>\n",
       "      <td>fashion_esporte</td>\n",
       "      <td>[(extracao de minerais metalicos nao ferrosos ...</td>\n",
       "    </tr>\n",
       "    <tr>\n",
       "      <th>71</th>\n",
       "      <td>construcao_ferramentas_ferramentas</td>\n",
       "      <td>[(extracao de minerais metalicos nao ferrosos ...</td>\n",
       "    </tr>\n",
       "    <tr>\n",
       "      <th>72</th>\n",
       "      <td>cds_dvds_musicais</td>\n",
       "      <td>[(extracao de minerais metalicos nao ferrosos ...</td>\n",
       "    </tr>\n",
       "    <tr>\n",
       "      <th>73</th>\n",
       "      <td></td>\n",
       "      <td>[(extracao de minerais metalicos nao ferrosos ...</td>\n",
       "    </tr>\n",
       "  </tbody>\n",
       "</table>\n",
       "<p>74 rows × 2 columns</p>\n",
       "</div>"
      ],
      "text/plain": [
       "                     categoria_produto  \\\n",
       "0                                  pcs   \n",
       "1                                bebes   \n",
       "2                                artes   \n",
       "3                            cine_foto   \n",
       "4                     moveis_decoracao   \n",
       "..                                 ...   \n",
       "69                             bebidas   \n",
       "70                     fashion_esporte   \n",
       "71  construcao_ferramentas_ferramentas   \n",
       "72                   cds_dvds_musicais   \n",
       "73                                       \n",
       "\n",
       "                                cnae_correspondencias  \n",
       "0   [(extracao de minerais metalicos nao ferrosos ...  \n",
       "1   [(extracao de minerais metalicos nao ferrosos ...  \n",
       "2   [(artes cenicas, espetaculos e atividades comp...  \n",
       "3   [(extracao de minerais metalicos nao ferrosos ...  \n",
       "4   [(extracao de minerais metalicos nao ferrosos ...  \n",
       "..                                                ...  \n",
       "69  [(comercio atacadista de bebidas, 0.7317682757...  \n",
       "70  [(extracao de minerais metalicos nao ferrosos ...  \n",
       "71  [(extracao de minerais metalicos nao ferrosos ...  \n",
       "72  [(extracao de minerais metalicos nao ferrosos ...  \n",
       "73  [(extracao de minerais metalicos nao ferrosos ...  \n",
       "\n",
       "[74 rows x 2 columns]"
      ]
     },
     "metadata": {},
     "output_type": "display_data"
    }
   ],
   "source": [
    "display(df_resultados)"
   ]
  },
  {
   "cell_type": "markdown",
   "id": "d8e9bed8",
   "metadata": {},
   "source": [
    "#### É possível verificar pela amostra que a associação da coluna product_category_name com as decrições do CNAE funcionou bem. Porém a sellers_sdf não tem coluna correspondente, então para enriquecer a tabela sellers usei a order_items_df. "
   ]
  },
  {
   "cell_type": "code",
   "execution_count": null,
   "id": "3fdcf8a7",
   "metadata": {},
   "outputs": [],
   "source": [
    "spark = SparkSession.builder.getOrCreate()\n",
    "\n",
    "# Definir o esquema para o df do PySpark\n",
    "schema = StructType([\n",
    "    StructField(\"categoria_produto\", StringType(), True),\n",
    "    StructField(\"cnae_correspondencias\", ArrayType(StringType()), True)\n",
    "])\n",
    "\n",
    "# Converter o df do Pandas para o PySpark\n",
    "correspondencias_sdf = spark.createDataFrame(df_resultados, schema=schema)\n"
   ]
  },
  {
   "cell_type": "code",
   "execution_count": 69,
   "id": "734b53d6",
   "metadata": {},
   "outputs": [
    {
     "data": {
      "text/plain": [
       "categoria_produto        object\n",
       "cnae_correspondencias    object\n",
       "dtype: object"
      ]
     },
     "execution_count": 69,
     "metadata": {},
     "output_type": "execute_result"
    }
   ],
   "source": [
    "df_resultados.dtypes"
   ]
  },
  {
   "cell_type": "code",
   "execution_count": null,
   "id": "2ab32913",
   "metadata": {},
   "outputs": [],
   "source": [
    "df_resultados[\"cnae_correspondencias\"] = df_resultados[\"cnae_correspondencias\"].astype(str)\n",
    "df_resultados_sdf = spark.createDataFrame(df_resultados)\n"
   ]
  },
  {
   "cell_type": "code",
   "execution_count": null,
   "id": "67976509",
   "metadata": {},
   "outputs": [
    {
     "name": "stderr",
     "output_type": "stream",
     "text": [
      "25/05/23 10:53:14 WARN TaskSetManager: Stage 54 contains a task of very large size (3305 KiB). The maximum recommended task size is 1000 KiB.\n",
      "                                                                                \r"
     ]
    },
    {
     "name": "stdout",
     "output_type": "stream",
     "text": [
      "+--------------------+----------------------+-----------------+------------+--------------------+---------------------+\n",
      "|           seller_id|seller_zip_code_prefix|      seller_city|seller_state|   categoria_produto|cnae_correspondencias|\n",
      "+--------------------+----------------------+-----------------+------------+--------------------+---------------------+\n",
      "|e38db885400cd35c7...|                 70740|         brasilia|          DF|     cama_mesa_banho| [('extracao de mi...|\n",
      "|05a48cc8859962767...|                  5372|        sao paulo|          SP|  ferramentas_jardim| [('extracao de mi...|\n",
      "|c0f3eea2e14555b6f...|                  4195|        sao paulo|          SP|       esporte_lazer| [('extracao de mi...|\n",
      "|3442f8959a84dea7e...|                 13023|         campinas|          SP|       esporte_lazer| [('extracao de mi...|\n",
      "|4e6015589b781adaa...|                 11440|          guaruja|          SP|       esporte_lazer| [('extracao de mi...|\n",
      "|768a86e36ad6aae3d...|                  1529|        sao paulo|          SP|               bebes| [('extracao de mi...|\n",
      "|51a04a8a6bdcb23de...|                 12914|braganca paulista|          SP|         eletronicos| [('fabricacao de ...|\n",
      "|8bd0f31cf0a614c65...|                  1222|        sao paulo|          SP|          brinquedos| [('fabricacao de ...|\n",
      "|a7a9b880c49781da6...|                 13530|        itirapina|          SP|     cama_mesa_banho| [('extracao de mi...|\n",
      "|8cb7c5ddf41f4d506...|                 75110|         anapolis|          GO|       esporte_lazer| [('extracao de mi...|\n",
      "|1b938a7ec6ac5061a...|                 16304|        penapolis|          SP|               bebes| [('extracao de mi...|\n",
      "|ce3ad9de960102d06...|                 20031|   rio de janeiro|          RJ|               bebes| [('extracao de mi...|\n",
      "|e49c26c3edfa46d22...|                 55325|           brejao|          PE|               audio| [('comercio varej...|\n",
      "|ccc4bbb5f32a6ab2b...|                 80310|         curitiba|          PR|        beleza_saude| [('extracao de mi...|\n",
      "|d1b65fc7debc3361e...|                 13844|       mogi guacu|          SP|fashion_bolsas_e_...| [('extracao de mi...|\n",
      "|166e8f1381e096519...|                 88780|         imbituba|          SC|                NULL|                 NULL|\n",
      "|c240c4061717ac180...|                 20920|   rio de janeiro|          RJ|           alimentos| [('fabricacao de ...|\n",
      "|7b8e8ec35bad4b0ef...|                 88705|          tubarao|          SC|          automotivo| [('extracao de mi...|\n",
      "|d2e753bb80b7d4faa...|                 45810|     porto seguro|          BA|fashion_bolsas_e_...| [('extracao de mi...|\n",
      "|f9ec7093df3a7b346...|                  5138|        sao paulo|          SP|               bebes| [('extracao de mi...|\n",
      "+--------------------+----------------------+-----------------+------------+--------------------+---------------------+\n",
      "only showing top 20 rows\n"
     ]
    }
   ],
   "source": [
    "df_resultados_sdf = spark.createDataFrame(df_resultados)\n",
    "\n",
    "# Juntar items com produtos para pegar a categoria do produto\n",
    "items_with_categories = items_sdf.join(\n",
    "    products_sdf.select(\"product_id\", \"product_category_name\"),\n",
    "    on=\"product_id\",\n",
    "    how=\"left\"\n",
    ")\n",
    "\n",
    "# Juntar com df_resultados para obter correspondências CNAE\n",
    "items_with_cnae = items_with_categories.join(\n",
    "    df_resultados_sdf,\n",
    "    items_with_categories[\"product_category_name\"] == df_resultados_sdf[\"categoria_produto\"],\n",
    "    how=\"left\"\n",
    ")\n",
    "\n",
    "# Selecionar seller_id com categoria e CNAE (podem haver várias por seller)\n",
    "seller_cnae_raw = items_with_cnae.select(\n",
    "    \"seller_id\",\n",
    "    \"categoria_produto\",\n",
    "    \"cnae_correspondencias\"\n",
    ").dropDuplicates([\"seller_id\", \"categoria_produto\"])\n",
    "\n",
    "# Agregar uma correspondência de CNAE por seller (ajuste aqui se quiser lógica diferente)\n",
    "seller_cnae_agg = seller_cnae_raw.groupBy(\"seller_id\").agg(\n",
    "    first(\"categoria_produto\").alias(\"categoria_produto\"),\n",
    "    first(\"cnae_correspondencias\").alias(\"cnae_correspondencias\")\n",
    ")\n",
    "\n",
    "# Juntar com sellers_sdf\n",
    "sellers_enriched = sellers_sdf.join(\n",
    "    seller_cnae_agg,\n",
    "    on=\"seller_id\",\n",
    "    how=\"left\"\n",
    ")\n",
    "\n",
    "# Exibir o resultado\n",
    "sellers_enriched.show()\n"
   ]
  },
  {
   "cell_type": "code",
   "execution_count": null,
   "id": "9821d4f1",
   "metadata": {},
   "outputs": [
    {
     "name": "stderr",
     "output_type": "stream",
     "text": [
      "25/05/23 11:21:27 WARN TaskSetManager: Stage 109 contains a task of very large size (3305 KiB). The maximum recommended task size is 1000 KiB.\n",
      "                                                                                \r"
     ]
    }
   ],
   "source": [
    "sellers_enriched.coalesce(1).write.mode(\"overwrite\").parquet(\"/tmp/vendedores_descricao_cnae_temp\")"
   ]
  },
  {
   "cell_type": "markdown",
   "id": "9b3e216f",
   "metadata": {},
   "source": [
    "### c. Categorizar produtos em faixas de valor médio (baixo, médio, alto)"
   ]
  },
  {
   "cell_type": "code",
   "execution_count": null,
   "id": "c125e44a",
   "metadata": {},
   "outputs": [
    {
     "name": "stderr",
     "output_type": "stream",
     "text": [
      "25/05/23 11:44:53 WARN TaskSetManager: Stage 143 contains a task of very large size (3305 KiB). The maximum recommended task size is 1000 KiB.\n",
      "                                                                                \r"
     ]
    },
    {
     "name": "stdout",
     "output_type": "stream",
     "text": [
      "count    32951.000000\n",
      "mean       145.302464\n",
      "std        246.895756\n",
      "min          0.850000\n",
      "25%         39.900000\n",
      "50%         79.000000\n",
      "75%        154.900000\n",
      "max       6735.000000\n",
      "Name: preco_medio, dtype: float64\n"
     ]
    }
   ],
   "source": [
    "# Verificação de preços para definir os parâmetros de baixo, médio e alto\n",
    "\n",
    "# preço médio por produto\n",
    "preco_medio_por_produto = (\n",
    "    items_sdf.groupBy(\"product_id\")\n",
    "    .agg(avg(\"price\").alias(\"preco_medio\"))\n",
    ")\n",
    "\n",
    "# Juntar com a tabela de produtos para trazer a categoria\n",
    "produtos_com_categoria = preco_medio_por_produto.join(products_sdf.select(\"product_id\", \"product_category_name\"), on=\"product_id\", how=\"left\")\n",
    "\n",
    "# 3. Coletar os valores para análise estatística\n",
    "stats = produtos_com_categoria.select(\"preco_medio\").toPandas()[\"preco_medio\"].describe()\n",
    "print(stats)\n"
   ]
  },
  {
   "cell_type": "code",
   "execution_count": null,
   "id": "d6695f36",
   "metadata": {},
   "outputs": [
    {
     "name": "stderr",
     "output_type": "stream",
     "text": [
      "25/05/23 11:50:49 WARN TaskSetManager: Stage 148 contains a task of very large size (3305 KiB). The maximum recommended task size is 1000 KiB.\n",
      "                                                                                \r"
     ]
    },
    {
     "name": "stdout",
     "output_type": "stream",
     "text": [
      "+--------------------+---------------------+-----------+\n",
      "|          product_id|product_category_name|faixa_valor|\n",
      "+--------------------+---------------------+-----------+\n",
      "|0b0172eb0fd18479d...|          eletronicos|      baixo|\n",
      "|42a2bd596fda1baef...|      cama_mesa_banho|      medio|\n",
      "|460a66fcc404a3d73...| utilidades_domest...|      baixo|\n",
      "|30360c8b0b2ac6918...|   relogios_presentes|       alto|\n",
      "|13b4ff901d43edec6...|      cama_mesa_banho|       alto|\n",
      "|290ada89b05e1dca2...|       telefonia_fixa|      baixo|\n",
      "|7724696de32f44179...|        esporte_lazer|       alto|\n",
      "|abe236a52dbc43e90...|      cama_mesa_banho|      medio|\n",
      "|e85cdca8790ea0026...|          moveis_sala|      medio|\n",
      "|eb1549e153933dfee...| industria_comerci...|      medio|\n",
      "|35bc6c77029697004...| informatica_acess...|       alto|\n",
      "|878699846fa5ea02a...|     moveis_decoracao|       alto|\n",
      "|2f9c2888168b8c2d8...|            telefonia|      medio|\n",
      "|75f3ef6a5cb0f2d5a...|       consoles_games|       alto|\n",
      "|3f1a741cf55913844...|         beleza_saude|      baixo|\n",
      "|526e24e5c44ede53f...|     moveis_decoracao|      baixo|\n",
      "|be7f0912ba0112670...|           perfumaria|       alto|\n",
      "|18d87751433e4198e...|           cool_stuff|      baixo|\n",
      "|b23cfa104a0f29745...|            telefonia|      baixo|\n",
      "|5a57a59c44429be19...| utilidades_domest...|      medio|\n",
      "+--------------------+---------------------+-----------+\n",
      "only showing top 20 rows\n"
     ]
    }
   ],
   "source": [
    "# Classificar os produtos com base nos quartis observados (40 e 155)\n",
    "produtos_categorizados = produtos_com_categoria.withColumn(\n",
    "    \"faixa_valor\",\n",
    "    when(col(\"preco_medio\") < 40, \"baixo\")\n",
    "    .when((col(\"preco_medio\") >= 40) & (col(\"preco_medio\") < 155), \"medio\")\n",
    "    .otherwise(\"alto\")\n",
    ")\n",
    "\n",
    "# Selecionar apenas o que será salvo/analisado\n",
    "df_final = produtos_categorizados.select(\n",
    "    \"product_id\",\n",
    "    \"product_category_name\",\n",
    "    \"faixa_valor\"\n",
    ")\n",
    "\n",
    "# Exibir resultado\n",
    "df_final.show()\n"
   ]
  },
  {
   "cell_type": "code",
   "execution_count": 86,
   "id": "61251ba0",
   "metadata": {},
   "outputs": [
    {
     "name": "stderr",
     "output_type": "stream",
     "text": [
      "25/05/23 11:53:40 WARN TaskSetManager: Stage 154 contains a task of very large size (3305 KiB). The maximum recommended task size is 1000 KiB.\n",
      "                                                                                \r"
     ]
    }
   ],
   "source": [
    "df_final.coalesce(1).write.mode(\"overwrite\").parquet(\"/tmp/produtos_faixa_valor_temp\")"
   ]
  }
 ],
 "metadata": {
  "kernelspec": {
   "display_name": "airflow_venv310",
   "language": "python",
   "name": "python3"
  },
  "language_info": {
   "codemirror_mode": {
    "name": "ipython",
    "version": 3
   },
   "file_extension": ".py",
   "mimetype": "text/x-python",
   "name": "python",
   "nbconvert_exporter": "python",
   "pygments_lexer": "ipython3",
   "version": "3.10.17"
  }
 },
 "nbformat": 4,
 "nbformat_minor": 5
}
